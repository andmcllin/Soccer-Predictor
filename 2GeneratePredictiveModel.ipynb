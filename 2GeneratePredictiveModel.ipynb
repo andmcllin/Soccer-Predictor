{
 "cells": [
  {
   "cell_type": "code",
   "execution_count": 1,
   "metadata": {},
   "outputs": [],
   "source": [
    "from CreateSoccerModel import createModel"
   ]
  },
  {
   "cell_type": "code",
   "execution_count": 2,
   "metadata": {},
   "outputs": [
    {
     "name": "stdout",
     "output_type": "stream",
     "text": [
      "Epoch 1/100\n",
      "102/102 [==============================] - 1s 3ms/step - loss: 0.9882 - accuracy: 0.5281 - val_loss: 0.9800 - val_accuracy: 0.5392\n",
      "Epoch 2/100\n",
      "100/102 [============================>.] - ETA: 0s - loss: 0.9618 - accuracy: 0.5416"
     ]
    },
    {
     "name": "stderr",
     "output_type": "stream",
     "text": [
      "C:\\Users\\Andrew\\AppData\\Local\\Packages\\PythonSoftwareFoundation.Python.3.10_qbz5n2kfra8p0\\LocalCache\\local-packages\\Python310\\site-packages\\keras\\src\\engine\\training.py:3079: UserWarning: You are saving your model as an HDF5 file via `model.save()`. This file format is considered legacy. We recommend using instead the native Keras format, e.g. `model.save('my_model.keras')`.\n",
      "  saving_api.save_model(\n"
     ]
    },
    {
     "name": "stdout",
     "output_type": "stream",
     "text": [
      "102/102 [==============================] - 0s 2ms/step - loss: 0.9612 - accuracy: 0.5413 - val_loss: 0.9803 - val_accuracy: 0.5346\n",
      "Epoch 3/100\n",
      "102/102 [==============================] - 0s 2ms/step - loss: 0.9617 - accuracy: 0.5435 - val_loss: 0.9754 - val_accuracy: 0.5419\n",
      "Epoch 4/100\n",
      "102/102 [==============================] - 0s 2ms/step - loss: 0.9579 - accuracy: 0.5481 - val_loss: 0.9770 - val_accuracy: 0.5484\n",
      "Epoch 5/100\n",
      "102/102 [==============================] - 0s 2ms/step - loss: 0.9561 - accuracy: 0.5481 - val_loss: 0.9785 - val_accuracy: 0.5419\n",
      "Epoch 6/100\n",
      "102/102 [==============================] - 0s 2ms/step - loss: 0.9554 - accuracy: 0.5453 - val_loss: 0.9708 - val_accuracy: 0.5447\n",
      "Epoch 7/100\n",
      "102/102 [==============================] - 0s 2ms/step - loss: 0.9516 - accuracy: 0.5472 - val_loss: 0.9847 - val_accuracy: 0.5355\n",
      "Epoch 8/100\n",
      "102/102 [==============================] - 0s 2ms/step - loss: 0.9515 - accuracy: 0.5518 - val_loss: 0.9746 - val_accuracy: 0.5438\n",
      "Epoch 9/100\n",
      "102/102 [==============================] - 0s 2ms/step - loss: 0.9550 - accuracy: 0.5589 - val_loss: 0.9841 - val_accuracy: 0.5364\n",
      "Epoch 9: early stopping\n"
     ]
    },
    {
     "data": {
      "text/plain": [
       "0"
      ]
     },
     "execution_count": 2,
     "metadata": {},
     "output_type": "execute_result"
    }
   ],
   "source": [
    "createModel()"
   ]
  }
 ],
 "metadata": {
  "kernelspec": {
   "display_name": "Python 3",
   "language": "python",
   "name": "python3"
  },
  "language_info": {
   "codemirror_mode": {
    "name": "ipython",
    "version": 3
   },
   "file_extension": ".py",
   "mimetype": "text/x-python",
   "name": "python",
   "nbconvert_exporter": "python",
   "pygments_lexer": "ipython3",
   "version": "3.10.11"
  }
 },
 "nbformat": 4,
 "nbformat_minor": 2
}
