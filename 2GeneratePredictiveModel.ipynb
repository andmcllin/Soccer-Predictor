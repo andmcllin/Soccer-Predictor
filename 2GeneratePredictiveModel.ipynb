{
 "cells": [
  {
   "cell_type": "code",
   "execution_count": 1,
   "metadata": {},
   "outputs": [],
   "source": [
    "from CreateSoccerModel import createModel"
   ]
  },
  {
   "cell_type": "code",
   "execution_count": 2,
   "metadata": {},
   "outputs": [
    {
     "name": "stdout",
     "output_type": "stream",
     "text": [
      "Epoch 1/100\n",
      "102/102 [==============================] - 1s 5ms/step - loss: 0.9910 - accuracy: 0.5334 - val_loss: 0.9726 - val_accuracy: 0.5318\n",
      "Epoch 2/100\n",
      "102/102 [==============================] - 0s 3ms/step - loss: 0.9663 - accuracy: 0.5503 - val_loss: 0.9703 - val_accuracy: 0.5382\n",
      "Epoch 3/100\n",
      "102/102 [==============================] - 0s 3ms/step - loss: 0.9622 - accuracy: 0.5506 - val_loss: 0.9841 - val_accuracy: 0.5336\n",
      "Epoch 4/100\n",
      "102/102 [==============================] - 0s 3ms/step - loss: 0.9603 - accuracy: 0.5555 - val_loss: 0.9682 - val_accuracy: 0.5373\n",
      "Epoch 5/100\n",
      "102/102 [==============================] - 0s 3ms/step - loss: 0.9599 - accuracy: 0.5518 - val_loss: 0.9729 - val_accuracy: 0.5392\n",
      "Epoch 6/100\n",
      "102/102 [==============================] - 0s 3ms/step - loss: 0.9580 - accuracy: 0.5521 - val_loss: 0.9658 - val_accuracy: 0.5410\n",
      "Epoch 7/100\n",
      "102/102 [==============================] - 0s 3ms/step - loss: 0.9540 - accuracy: 0.5552 - val_loss: 0.9757 - val_accuracy: 0.5419\n",
      "Epoch 8/100\n",
      "102/102 [==============================] - 0s 3ms/step - loss: 0.9557 - accuracy: 0.5561 - val_loss: 0.9652 - val_accuracy: 0.5419\n",
      "Epoch 9/100\n",
      "102/102 [==============================] - 0s 3ms/step - loss: 0.9537 - accuracy: 0.5592 - val_loss: 0.9740 - val_accuracy: 0.5309\n",
      "Epoch 10/100\n",
      "102/102 [==============================] - 0s 3ms/step - loss: 0.9508 - accuracy: 0.5586 - val_loss: 0.9783 - val_accuracy: 0.5336\n",
      "Epoch 11/100\n",
      "102/102 [==============================] - 0s 3ms/step - loss: 0.9490 - accuracy: 0.5552 - val_loss: 0.9695 - val_accuracy: 0.5392\n",
      "Epoch 11: early stopping\n"
     ]
    },
    {
     "data": {
      "text/plain": [
       "0"
      ]
     },
     "execution_count": 2,
     "metadata": {},
     "output_type": "execute_result"
    }
   ],
   "source": [
    "createModel()"
   ]
  }
 ],
 "metadata": {
  "kernelspec": {
   "display_name": "Python 3",
   "language": "python",
   "name": "python3"
  },
  "language_info": {
   "codemirror_mode": {
    "name": "ipython",
    "version": 3
   },
   "file_extension": ".py",
   "mimetype": "text/x-python",
   "name": "python",
   "nbconvert_exporter": "python",
   "pygments_lexer": "ipython3",
   "version": "3.11.4"
  }
 },
 "nbformat": 4,
 "nbformat_minor": 2
}
