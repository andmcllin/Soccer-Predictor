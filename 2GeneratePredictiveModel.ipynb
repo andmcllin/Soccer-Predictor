{
 "cells": [
  {
   "cell_type": "code",
   "execution_count": 1,
   "metadata": {},
   "outputs": [],
   "source": [
    "from CreateSoccerModel import createModel"
   ]
  },
  {
   "cell_type": "code",
   "execution_count": 2,
   "metadata": {},
   "outputs": [
    {
     "name": "stdout",
     "output_type": "stream",
     "text": [
      "Epoch 1/100\n",
      "102/102 [==============================] - 1s 3ms/step - loss: 0.9891 - accuracy: 0.5337 - val_loss: 0.9576 - val_accuracy: 0.5484\n",
      "Epoch 2/100\n",
      "102/102 [==============================] - 0s 2ms/step - loss: 0.9706 - accuracy: 0.5401 - val_loss: 0.9565 - val_accuracy: 0.5558\n",
      "Epoch 3/100\n",
      "102/102 [==============================] - 0s 2ms/step - loss: 0.9674 - accuracy: 0.5453 - val_loss: 0.9522 - val_accuracy: 0.5521\n",
      "Epoch 4/100\n",
      "102/102 [==============================] - 0s 1ms/step - loss: 0.9690 - accuracy: 0.5447 - val_loss: 0.9547 - val_accuracy: 0.5594\n",
      "Epoch 5/100\n",
      "102/102 [==============================] - 0s 1ms/step - loss: 0.9679 - accuracy: 0.5460 - val_loss: 0.9573 - val_accuracy: 0.5585\n",
      "Epoch 6/100\n",
      "102/102 [==============================] - 0s 1ms/step - loss: 0.9695 - accuracy: 0.5469 - val_loss: 0.9523 - val_accuracy: 0.5604\n",
      "Epoch 6: early stopping\n"
     ]
    }
   ],
   "source": [
    "createModel()"
   ]
  }
 ],
 "metadata": {
  "kernelspec": {
   "display_name": "Python 3",
   "language": "python",
   "name": "python3"
  },
  "language_info": {
   "codemirror_mode": {
    "name": "ipython",
    "version": 3
   },
   "file_extension": ".py",
   "mimetype": "text/x-python",
   "name": "python",
   "nbconvert_exporter": "python",
   "pygments_lexer": "ipython3",
   "version": "3.10.11"
  }
 },
 "nbformat": 4,
 "nbformat_minor": 2
}
