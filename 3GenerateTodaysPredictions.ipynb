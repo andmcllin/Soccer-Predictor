{
 "cells": [
  {
   "cell_type": "code",
   "execution_count": 1,
   "metadata": {},
   "outputs": [],
   "source": [
    "from DailySoccerPredictions import makePredictions\n",
    "from datetime import date"
   ]
  },
  {
   "cell_type": "code",
   "execution_count": 2,
   "metadata": {},
   "outputs": [
    {
     "name": "stdout",
     "output_type": "stream",
     "text": [
      "1/1 [==============================] - 0s 435ms/step\n",
      "Home Win for Athletic Club: 62.06% or -164, Draw: 24.61% or +306, Away Win for Celta Vigo: 13.33% or +650\n",
      "Home Win for Sassuolo: 49.84% or +101, Draw: 29.15% or +243, Away Win for Salernitana: 21.01% or +376\n",
      "Home Win for Genoa: 55.74% or -126, Draw: 26.95% or +271, Away Win for Hellas Verona: 17.31% or +478\n",
      "Home Win for M'Gladbach: 44.12% or +127, Draw: 30.1% or +232, Away Win for Wolfsburg: 25.78% or +288\n"
     ]
    }
   ],
   "source": [
    "makePredictions(date.today())"
   ]
  }
 ],
 "metadata": {
  "kernelspec": {
   "display_name": "Python 3",
   "language": "python",
   "name": "python3"
  },
  "language_info": {
   "codemirror_mode": {
    "name": "ipython",
    "version": 3
   },
   "file_extension": ".py",
   "mimetype": "text/x-python",
   "name": "python",
   "nbconvert_exporter": "python",
   "pygments_lexer": "ipython3",
   "version": "3.11.4"
  }
 },
 "nbformat": 4,
 "nbformat_minor": 2
}
