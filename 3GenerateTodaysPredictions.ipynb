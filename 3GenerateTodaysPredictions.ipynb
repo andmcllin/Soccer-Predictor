{
 "cells": [
  {
   "cell_type": "code",
   "execution_count": 1,
   "metadata": {},
   "outputs": [],
   "source": [
    "from DailySoccerPredictions import makePredictions\n",
    "from datetime import date"
   ]
  },
  {
   "cell_type": "code",
   "execution_count": 2,
   "metadata": {},
   "outputs": [
    {
     "name": "stdout",
     "output_type": "stream",
     "text": [
      "1/1 [==============================] - 0s 126ms/step\n",
      "Home Win for Tottenham: 53.1% or -113, Draw: 27.37% or +265, Away Win for Chelsea: 19.53% or +412\n",
      "Home Win for Getafe: 38.43% or +160, Draw: 35.63% or +181, Away Win for Cádiz: 25.94% or +286\n",
      "Home Win for Frosinone: 58.71% or -142, Draw: 23.77% or +321, Away Win for Empoli: 17.52% or +471\n",
      "Home Win for Torino: 39.78% or +151, Draw: 33.87% or +195, Away Win for Sassuolo: 26.36% or +279\n"
     ]
    }
   ],
   "source": [
    "makePredictions(date.today())"
   ]
  }
 ],
 "metadata": {
  "kernelspec": {
   "display_name": "Python 3",
   "language": "python",
   "name": "python3"
  },
  "language_info": {
   "codemirror_mode": {
    "name": "ipython",
    "version": 3
   },
   "file_extension": ".py",
   "mimetype": "text/x-python",
   "name": "python",
   "nbconvert_exporter": "python",
   "pygments_lexer": "ipython3",
   "version": "3.11.4"
  }
 },
 "nbformat": 4,
 "nbformat_minor": 2
}
