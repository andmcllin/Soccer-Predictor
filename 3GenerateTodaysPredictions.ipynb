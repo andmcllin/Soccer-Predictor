{
 "cells": [
  {
   "cell_type": "code",
   "execution_count": 1,
   "metadata": {},
   "outputs": [],
   "source": [
    "from DailySoccerPredictions import makePredictions\n",
    "from datetime import date"
   ]
  },
  {
   "cell_type": "code",
   "execution_count": 2,
   "metadata": {},
   "outputs": [
    {
     "name": "stdout",
     "output_type": "stream",
     "text": [
      "1/1 [==============================] - 0s 94ms/step\n",
      "Home Win for Tottenham: 56.84% or -132, Draw: 27.7% or +261, Away Win for Chelsea: 15.46% or +547\n",
      "Home Win for Getafe: 46.64% or +114, Draw: 29.0% or +245, Away Win for Cádiz: 24.35% or +311\n",
      "Home Win for Frosinone: 68.41% or -217, Draw: 22.65% or +342, Away Win for Empoli: 8.94% or +1019\n",
      "Home Win for Torino: 49.24% or +103, Draw: 28.82% or +247, Away Win for Sassuolo: 21.95% or +356\n"
     ]
    }
   ],
   "source": [
    "makePredictions(date.today())"
   ]
  }
 ],
 "metadata": {
  "kernelspec": {
   "display_name": "Python 3",
   "language": "python",
   "name": "python3"
  },
  "language_info": {
   "codemirror_mode": {
    "name": "ipython",
    "version": 3
   },
   "file_extension": ".py",
   "mimetype": "text/x-python",
   "name": "python",
   "nbconvert_exporter": "python",
   "pygments_lexer": "ipython3",
   "version": "3.10.11"
  }
 },
 "nbformat": 4,
 "nbformat_minor": 2
}
